{
 "cells": [
  {
   "cell_type": "code",
   "execution_count": 1,
   "id": "445b2d72-4f05-455a-87b3-754aadfc8117",
   "metadata": {},
   "outputs": [],
   "source": [
    "import pandas as pd\n",
    "import numpy as np"
   ]
  },
  {
   "cell_type": "code",
   "execution_count": 3,
   "id": "8bd76427-403e-43c0-8794-01c44f333396",
   "metadata": {},
   "outputs": [],
   "source": [
    "data=pd.read_csv('C:\\\\Users\\\\s1597\\\\Desktop\\\\Python\\\\Machine Learning\\\\Machine Notes\\\\Pandas\\\\complex_dataset.csv')"
   ]
  },
  {
   "cell_type": "code",
   "execution_count": 5,
   "id": "54e96a5d-a682-4ba6-9960-fba90f1262e5",
   "metadata": {},
   "outputs": [
    {
     "data": {
      "text/html": [
       "<div>\n",
       "<style scoped>\n",
       "    .dataframe tbody tr th:only-of-type {\n",
       "        vertical-align: middle;\n",
       "    }\n",
       "\n",
       "    .dataframe tbody tr th {\n",
       "        vertical-align: top;\n",
       "    }\n",
       "\n",
       "    .dataframe thead th {\n",
       "        text-align: right;\n",
       "    }\n",
       "</style>\n",
       "<table border=\"1\" class=\"dataframe\">\n",
       "  <thead>\n",
       "    <tr style=\"text-align: right;\">\n",
       "      <th></th>\n",
       "      <th>Age</th>\n",
       "      <th>Salary</th>\n",
       "      <th>Years_of_Experience</th>\n",
       "      <th>Department</th>\n",
       "      <th>Location</th>\n",
       "      <th>Performance_Score</th>\n",
       "      <th>Gender</th>\n",
       "      <th>Education_Level</th>\n",
       "    </tr>\n",
       "  </thead>\n",
       "  <tbody>\n",
       "    <tr>\n",
       "      <th>0</th>\n",
       "      <td>56</td>\n",
       "      <td>64674</td>\n",
       "      <td>11</td>\n",
       "      <td>Sales</td>\n",
       "      <td>San Francisco</td>\n",
       "      <td>3.381439</td>\n",
       "      <td>Female</td>\n",
       "      <td>Master</td>\n",
       "    </tr>\n",
       "    <tr>\n",
       "      <th>1</th>\n",
       "      <td>69</td>\n",
       "      <td>65854</td>\n",
       "      <td>2</td>\n",
       "      <td>Sales</td>\n",
       "      <td>Los Angeles</td>\n",
       "      <td>1.688442</td>\n",
       "      <td>Male</td>\n",
       "      <td>Bachelor</td>\n",
       "    </tr>\n",
       "    <tr>\n",
       "      <th>2</th>\n",
       "      <td>46</td>\n",
       "      <td>76271</td>\n",
       "      <td>44</td>\n",
       "      <td>Marketing</td>\n",
       "      <td>San Francisco</td>\n",
       "      <td>4.702089</td>\n",
       "      <td>Male</td>\n",
       "      <td>High School</td>\n",
       "    </tr>\n",
       "    <tr>\n",
       "      <th>3</th>\n",
       "      <td>32</td>\n",
       "      <td>103688</td>\n",
       "      <td>17</td>\n",
       "      <td>HR</td>\n",
       "      <td>Los Angeles</td>\n",
       "      <td>1.273336</td>\n",
       "      <td>Male</td>\n",
       "      <td>High School</td>\n",
       "    </tr>\n",
       "    <tr>\n",
       "      <th>4</th>\n",
       "      <td>60</td>\n",
       "      <td>68518</td>\n",
       "      <td>39</td>\n",
       "      <td>Marketing</td>\n",
       "      <td>New York</td>\n",
       "      <td>2.721499</td>\n",
       "      <td>Male</td>\n",
       "      <td>PhD</td>\n",
       "    </tr>\n",
       "  </tbody>\n",
       "</table>\n",
       "</div>"
      ],
      "text/plain": [
       "   Age  Salary  Years_of_Experience Department       Location  \\\n",
       "0   56   64674                   11      Sales  San Francisco   \n",
       "1   69   65854                    2      Sales    Los Angeles   \n",
       "2   46   76271                   44  Marketing  San Francisco   \n",
       "3   32  103688                   17         HR    Los Angeles   \n",
       "4   60   68518                   39  Marketing       New York   \n",
       "\n",
       "   Performance_Score  Gender Education_Level  \n",
       "0           3.381439  Female          Master  \n",
       "1           1.688442    Male        Bachelor  \n",
       "2           4.702089    Male     High School  \n",
       "3           1.273336    Male     High School  \n",
       "4           2.721499    Male             PhD  "
      ]
     },
     "execution_count": 5,
     "metadata": {},
     "output_type": "execute_result"
    }
   ],
   "source": [
    "#查看数据前面五行\n",
    "data.head()"
   ]
  },
  {
   "cell_type": "code",
   "execution_count": 7,
   "id": "ab7201c2-dd6f-49b5-a831-26e2cbe054f7",
   "metadata": {},
   "outputs": [
    {
     "data": {
      "text/plain": [
       "(1000, 8)"
      ]
     },
     "execution_count": 7,
     "metadata": {},
     "output_type": "execute_result"
    }
   ],
   "source": [
    "#查看数据的形状返回 ( 行数，列数)\n",
    "data.shape"
   ]
  },
  {
   "cell_type": "code",
   "execution_count": 11,
   "id": "6662dc7a-5e27-4f10-870e-674dde1ea02b",
   "metadata": {},
   "outputs": [
    {
     "data": {
      "text/plain": [
       "Index(['Age', 'Salary', 'Years_of_Experience', 'Department', 'Location',\n",
       "       'Performance_Score', 'Gender', 'Education_Level'],\n",
       "      dtype='object')"
      ]
     },
     "execution_count": 11,
     "metadata": {},
     "output_type": "execute_result"
    }
   ],
   "source": [
    "#查看列表列名\n",
    "data.columns"
   ]
  },
  {
   "cell_type": "code",
   "execution_count": 13,
   "id": "8d696459-7750-4d8c-a4cb-c479b3a7290c",
   "metadata": {},
   "outputs": [
    {
     "data": {
      "text/plain": [
       "RangeIndex(start=0, stop=1000, step=1)"
      ]
     },
     "execution_count": 13,
     "metadata": {},
     "output_type": "execute_result"
    }
   ],
   "source": [
    "#查看索引名\n",
    "data.index"
   ]
  },
  {
   "cell_type": "code",
   "execution_count": 15,
   "id": "ebd5c167-f66a-463c-b124-39c1c3c47461",
   "metadata": {},
   "outputs": [
    {
     "data": {
      "text/plain": [
       "Age                      int64\n",
       "Salary                   int64\n",
       "Years_of_Experience      int64\n",
       "Department              object\n",
       "Location                object\n",
       "Performance_Score      float64\n",
       "Gender                  object\n",
       "Education_Level         object\n",
       "dtype: object"
      ]
     },
     "execution_count": 15,
     "metadata": {},
     "output_type": "execute_result"
    }
   ],
   "source": [
    "#查看每列的数据类型\n",
    "data.dtypes"
   ]
  },
  {
   "cell_type": "markdown",
   "id": "e89fa95c-60a0-4836-a952-e7a1dd5bb6eb",
   "metadata": {},
   "source": [
    "## Pandas数据结构,Series和DataFrame\n",
    "\n",
    "### Series\n",
    "\n",
    "Series是类似于一维数组的对象，它由一组数据（不同数据类型）以及一组与之相关的索引组成"
   ]
  },
  {
   "cell_type": "markdown",
   "id": "ec47c1a5-4dd7-466b-a3d2-f55f6d102afb",
   "metadata": {},
   "source": [
    "### 仅有数据列表即可产生最简单的Series\n"
   ]
  },
  {
   "cell_type": "code",
   "execution_count": 27,
   "id": "5f208735-03f3-4571-9bbb-cb305d962dc9",
   "metadata": {},
   "outputs": [],
   "source": [
    "s1=pd.Series([1,'data',1.2,'dword'])"
   ]
  },
  {
   "cell_type": "code",
   "execution_count": 29,
   "id": "a6c806cd-9003-4620-bf89-b1b96095d83f",
   "metadata": {},
   "outputs": [
    {
     "data": {
      "text/plain": [
       "0        1\n",
       "1     data\n",
       "2      1.2\n",
       "3    dword\n",
       "dtype: object"
      ]
     },
     "execution_count": 29,
     "metadata": {},
     "output_type": "execute_result"
    }
   ],
   "source": [
    "s1\n"
   ]
  },
  {
   "cell_type": "code",
   "execution_count": 31,
   "id": "f97d4049-f934-40ef-9f3c-f9a79ee8d06e",
   "metadata": {},
   "outputs": [
    {
     "data": {
      "text/plain": [
       "RangeIndex(start=0, stop=4, step=1)"
      ]
     },
     "execution_count": 31,
     "metadata": {},
     "output_type": "execute_result"
    }
   ],
   "source": [
    "# 获取索引\n",
    "s1.index"
   ]
  },
  {
   "cell_type": "code",
   "execution_count": 33,
   "id": "7d4a10ac-6aca-405b-8e1d-4a70f11b0a36",
   "metadata": {},
   "outputs": [],
   "source": [
    "# 获取数据"
   ]
  },
  {
   "cell_type": "code",
   "execution_count": 35,
   "id": "3f237b67-8e2f-482a-a906-b0da63a030a0",
   "metadata": {},
   "outputs": [
    {
     "data": {
      "text/plain": [
       "array([1, 'data', 1.2, 'dword'], dtype=object)"
      ]
     },
     "execution_count": 35,
     "metadata": {},
     "output_type": "execute_result"
    }
   ],
   "source": [
    "s1.values"
   ]
  },
  {
   "cell_type": "markdown",
   "id": "84303653-8348-4c4e-832d-fb7061b2760f",
   "metadata": {},
   "source": [
    "### 创建一个具有标签索引的Series"
   ]
  },
  {
   "cell_type": "code",
   "execution_count": 40,
   "id": "e20115c4-6c6a-4aeb-9fb6-5ae024e08fdb",
   "metadata": {},
   "outputs": [],
   "source": [
    "s2=pd.Series(['hello',11,2.2],index=['a','b','c'])"
   ]
  },
  {
   "cell_type": "code",
   "execution_count": 42,
   "id": "a3dc3a10-0d5d-40fe-972a-c1dc573ed183",
   "metadata": {},
   "outputs": [
    {
     "data": {
      "text/plain": [
       "a    hello\n",
       "b       11\n",
       "c      2.2\n",
       "dtype: object"
      ]
     },
     "execution_count": 42,
     "metadata": {},
     "output_type": "execute_result"
    }
   ],
   "source": [
    "s2"
   ]
  },
  {
   "cell_type": "markdown",
   "id": "b35306d2-3379-4938-b6e0-0f1458434a91",
   "metadata": {},
   "source": [
    "## DataFrame \n",
    "### DAtaFrame 是表格型数据结结构,每列可以是不同的数据类型,既有行索引index,也有列索引columns"
   ]
  },
  {
   "cell_type": "markdown",
   "id": "930d3dcc-67ca-4e14-b2d2-4815849d1936",
   "metadata": {},
   "source": [
    "## DataFrame  \n",
    "DataFrame 是一种二维的表格型数据结构，类似于电子表格或 SQL 表中的数据表。它由行索引（index）和列索引（columns）组成，每列可以存储不同类型的数据（如整数、浮点数、字符串等）。  \n",
    "\n",
    "### DataFrame 的特点  \n",
    "1. **行索引和列索引**：既有行索引（index），也有列索引（columns），可以方便地对数据进行定位和操作。  \n",
    "2. **多种数据类型**：每列可以存储不同的数据类型，例如整数、浮点数、字符串等。  \n",
    "3. **灵活的数据操作**：支持对数据的增删改查、分组、聚合、排序等操作。  \n",
    "4. **与其他数据源的集成**：可以轻松地从 CSV 文件、Excel 文件、SQL 数据库等多种数据源中读取数据，或将数据导出到这些格式。  \n",
    "\n",
    "### 创建 DataFrame 的方式  \n",
    "1. **从字典创建**：  \n",
    "    ```python\n",
    "    data = {'Name': ['Alice', 'Bob', 'Charlie'], 'Age': [25, 30, 35], 'Gender': ['F', 'M', 'M']}\n",
    "    df = pd.DataFrame(data)\n",
    "    print(df)\n",
    "    ```\n",
    "\n",
    "2. **从二维数组创建**：  \n",
    "    ```python\n",
    "    data = [[1, 'Alice', 25], [2, 'Bob', 30], [3, 'Charlie', 35]]\n",
    "    df = pd.DataFrame(data, columns=['ID', 'Name', 'Age'])\n",
    "    print(df)\n",
    "    ```\n",
    "\n",
    "3. **从 CSV 文件读取**：  \n",
    "    ```python\n",
    "    df = pd.read_csv('file_path.csv')\n",
    "    ```  \n",
    "\n",
    "### 常用操作  \n",
    "- 查看数据：`df.head()`、`df.tail()`  \n",
    "- 查看形状：`df.shape`  \n",
    "- 查看列名：`df.columns`  \n",
    "- 查看索引：`df.index`  \n",
    "- 查看数据类型：`df.dtypes`  \n",
    "- 选择列：`df['column_name']`  \n",
    "- 选择行：`df.loc[row_index]` 或 `df.iloc[row_position]`  "
   ]
  },
  {
   "cell_type": "markdown",
   "id": "a86e6b7d-0a76-428c-80a6-d40d51b40a72",
   "metadata": {},
   "source": []
  }
 ],
 "metadata": {
  "kernelspec": {
   "display_name": "Python [conda env:base] *",
   "language": "python",
   "name": "conda-base-py"
  },
  "language_info": {
   "codemirror_mode": {
    "name": "ipython",
    "version": 3
   },
   "file_extension": ".py",
   "mimetype": "text/x-python",
   "name": "python",
   "nbconvert_exporter": "python",
   "pygments_lexer": "ipython3",
   "version": "3.12.7"
  }
 },
 "nbformat": 4,
 "nbformat_minor": 5
}
